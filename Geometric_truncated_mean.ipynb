{
 "cells": [
  {
   "cell_type": "code",
   "execution_count": 1,
   "metadata": {},
   "outputs": [
    {
     "data": {
      "image/png": "[encoded data removed]",
      "text/plain": [
       "<Figure size 432x288 with 1 Axes>"
      ]
     },
     "metadata": {
      "needs_background": "light"
     },
     "output_type": "display_data"
    }
   ],
   "source": [
    "%matplotlib inline\n",
    "import numpy as np\n",
    "import matplotlib.pyplot as plt\n",
    "\n",
    "avg = np.zeros(10000)\n",
    "n = 100\n",
    "dice = [1,2,3,4,5,6]\n",
    "for i in range(len(avg)):\n",
    "    samples = np.random.choice(dice,n) # Generate Samples\n",
    "    avg[i] = np.mean(samples) # Compute the sample average\n",
    "    \n",
    "plt.hist(avg, bins=50, range=(1,6), density=False, color=\"skyblue\", ec='blue')\n",
    "plt.ylabel('frequency')\n",
    "plt.xlabel('arithmetic mean')\n",
    "plt.savefig('1-2-arithmetic_mean.png')"
   ]
  },
  {
   "cell_type": "code",
   "execution_count": 2,
   "metadata": {},
   "outputs": [
    {
     "data": {
      "image/png": "[encoded data removed]",
      "text/plain": [
       "<Figure size 432x288 with 1 Axes>"
      ]
     },
     "metadata": {
      "needs_background": "light"
     },
     "output_type": "display_data"
    }
   ],
   "source": [
    "%matplotlib inline\n",
    "import numpy as np\n",
    "import matplotlib.pyplot as plt\n",
    "\n",
    "avg = np.zeros(10000)\n",
    "n = 100\n",
    "dice = [1,2,3,4,5,6]\n",
    "for i in range(len(avg)):\n",
    "    samples = np.random.choice(dice,n) # Generate Samples\n",
    "    avg[i] = np.exp(np.mean(np.log(samples))) # Compute the sample average\n",
    "    \n",
    "plt.hist(avg, bins=50, range=(1,6), density=False, color=\"skyblue\", ec='blue')\n",
    "plt.ylabel('frequency')\n",
    "plt.xlabel('geometric mean')\n",
    "plt.xlim((1,6))\n",
    "plt.savefig('1-2-geometric_mean.png')"
   ]
  },
  {
   "cell_type": "code",
   "execution_count": 3,
   "metadata": {},
   "outputs": [
    {
     "name": "stdout",
     "output_type": "stream",
     "text": [
      "original [ 4.72358402 -1.5459432  -0.22207168 -1.07780482  0.60578117 -0.02460626\n",
      " -4.53414733  0.60877027 -0.45937254  1.00399634]\n",
      "sorted [-4.53414733 -1.5459432  -1.07780482 -0.45937254 -0.22207168 -0.02460626\n",
      "  0.60578117  0.60877027  1.00399634  4.72358402]\n"
     ]
    }
   ],
   "source": [
    "n = 10\n",
    "samples = np.random.standard_cauchy(n)\n",
    "sorted_samples= np.sort(samples)\n",
    "print(\"original\",samples)\n",
    "print(\"sorted\",sorted_samples)"
   ]
  },
  {
   "cell_type": "code",
   "execution_count": 4,
   "metadata": {},
   "outputs": [
    {
     "data": {
      "image/png": "[encoded data removed]",
      "text/plain": [
       "<Figure size 432x288 with 1 Axes>"
      ]
     },
     "metadata": {
      "needs_background": "light"
     },
     "output_type": "display_data"
    }
   ],
   "source": [
    "%matplotlib inline\n",
    "import numpy as np\n",
    "import matplotlib.pyplot as plt\n",
    "\n",
    "avg = np.zeros(100)\n",
    "n = 10\n",
    "for i in range(len(avg)):\n",
    "    samples = np.random.standard_cauchy(n) # サンプル生成\n",
    "    avg[i] = np.mean(samples)   # 平均の計算\n",
    "    \n",
    "plt.hist(avg, bins=50, range=(-100,100),density = False, label = 'histogram', color = \"skyblue\",)\n",
    "plt.ylabel('frequency')\n",
    "plt.xlabel('arithmetic mean')\n",
    "plt.savefig('1-3-arithemetic_mean.png')"
   ]
  },
  {
   "cell_type": "code",
   "execution_count": 5,
   "metadata": {},
   "outputs": [
    {
     "data": {
      "image/png": "[encoded data removed]",
      "text/plain": [
       "<Figure size 432x288 with 1 Axes>"
      ]
     },
     "metadata": {
      "needs_background": "light"
     },
     "output_type": "display_data"
    }
   ],
   "source": [
    "%matplotlib inline\n",
    "import numpy as np\n",
    "import matplotlib.pyplot as plt\n",
    "\n",
    "avg = np.zeros(100)\n",
    "n = 10\n",
    "m = 1 # トリム数\n",
    "for i in range(len(avg)):\n",
    "    samples = np.random.standard_cauchy(n) # サンプル生成\n",
    "    sorted_samples = np.sort(samples)\n",
    "    trimmed_samples = sorted_samples[m:-m]\n",
    "    avg[i] = np.mean(trimmed_samples)   # 平均の計算    \n",
    "    \n",
    "plt.hist(avg, bins=50, range=(-100,100),density = False, label = 'histogram', color = \"skyblue\",)\n",
    "plt.ylabel('frequency')\n",
    "plt.xlabel('trimmed mean')\n",
    "plt.savefig('1-3-trimmed_avg.png')"
   ]
  },
  {
   "cell_type": "code",
   "execution_count": null,
   "metadata": {},
   "outputs": [],
   "source": []
  }
 ],
 "metadata": {
  "kernelspec": {
   "display_name": "Python 3",
   "language": "python",
   "name": "python3"
  },
  "language_info": {
   "codemirror_mode": {
    "name": "ipython",
    "version": 3
   },
   "file_extension": ".py",
   "mimetype": "text/x-python",
   "name": "python",
   "nbconvert_exporter": "python",
   "pygments_lexer": "ipython3",
   "version": "3.7.3"
  }
 },
 "nbformat": 4,
 "nbformat_minor": 2
}
